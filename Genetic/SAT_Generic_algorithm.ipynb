{
  "nbformat": 4,
  "nbformat_minor": 0,
  "metadata": {
    "colab": {
      "provenance": []
    },
    "kernelspec": {
      "name": "python3",
      "display_name": "Python 3"
    },
    "language_info": {
      "name": "python"
    }
  },
  "cells": [
    {
      "cell_type": "code",
      "source": [
        "# Install sat library\n",
        "!pip install python-sat"
      ],
      "metadata": {
        "id": "cxghvWd-RcPG"
      },
      "execution_count": null,
      "outputs": []
    },
    {
      "cell_type": "code",
      "execution_count": 3,
      "metadata": {
        "id": "501myZo0jD4H"
      },
      "outputs": [],
      "source": [
        "import numpy as np\n",
        "import random\n",
        "import matplotlib.pyplot as plt\n",
        "import pysat as py\n",
        "from pysat.formula import CNF\n",
        "from google.colab import output"
      ]
    },
    {
      "cell_type": "code",
      "source": [
        "# Set the drive for gettin cnf file\n",
        "from google.colab import drive\n",
        "drive.mount(\"/content/drive/\")"
      ],
      "metadata": {
        "id": "JvaIssyoQEbT",
        "colab": {
          "base_uri": "https://localhost:8080/"
        },
        "outputId": "8eed0042-2e0c-44da-e4aa-d8436dc6a570"
      },
      "execution_count": 4,
      "outputs": [
        {
          "output_type": "stream",
          "name": "stdout",
          "text": [
            "Drive already mounted at /content/drive/; to attempt to forcibly remount, call drive.mount(\"/content/drive/\", force_remount=True).\n"
          ]
        }
      ]
    },
    {
      "cell_type": "code",
      "source": [
        "# Read the cnf file\n",
        "path = '/content/drive/MyDrive/Colab Notebooks/Input.cnf'\n",
        "df = CNF(from_file= path)\n",
        "lists = df.clauses"
      ],
      "metadata": {
        "id": "7Zss1nUYQY5d"
      },
      "execution_count": 5,
      "outputs": []
    },
    {
      "cell_type": "code",
      "source": [
        "# Create 6 initial samples for testing\n",
        "def create_initial_samples():\n",
        "\n",
        "    true = 0\n",
        "    for i in range(6):\n",
        "        sample = []\n",
        "        for j in range(429):\n",
        "           junk_list = []\n",
        "           for k in range(3):\n",
        "                number = random.randrange(1, 101)\n",
        "\n",
        "                if true % 6 == 0:\n",
        "                  sign =1\n",
        "                else:\n",
        "                  sign = 0\n",
        "                junk_list.append( (number, sign) )\n",
        "\n",
        "           sample.append(junk_list)\n",
        "           true+=1\n",
        "\n",
        "        samples.append(sample)"
      ],
      "metadata": {
        "id": "ot7fWkPO80Et"
      },
      "execution_count": 6,
      "outputs": []
    },
    {
      "cell_type": "code",
      "source": [
        "# Count the number of true parentheses\n",
        "def true_cont(sat_list):\n",
        "\n",
        "    number_of_trues = 0\n",
        "    for i in range(len(sat_list)):\n",
        "        is_true = sat_list[i][0][1] + sat_list[i][1][1] + sat_list[i][2][1]\n",
        "        if is_true >= 1 :\n",
        "         number_of_trues += 1\n",
        "\n",
        "    return number_of_trues"
      ],
      "metadata": {
        "id": "PVIS41P2EL7e"
      },
      "execution_count": 7,
      "outputs": []
    },
    {
      "cell_type": "code",
      "source": [
        "# This function is used for setting how many true parentheses in each iteration\n",
        "def iterate_points(start, itr):\n",
        "  for i in range(start, len(samples)):\n",
        "    points.append(true_cont(samples[i]))\n",
        "    iteration.append(itr)\n"
      ],
      "metadata": {
        "id": "R81TA7yzFLV0"
      },
      "execution_count": 8,
      "outputs": []
    },
    {
      "cell_type": "code",
      "source": [
        "# Selecting two bests populations and return them in a list as shown as \"best\"\n",
        "def selector():\n",
        "\n",
        "    best = []\n",
        "    max = 0\n",
        "    index = 0\n",
        "    for i in range(len(points)):\n",
        "     if points[i] > max:\n",
        "      max = points[i]\n",
        "      index = i\n",
        "\n",
        "    best.append(samples[index])\n",
        "\n",
        "    best_index = index\n",
        "\n",
        "    max = 0\n",
        "    index = 0\n",
        "    for i in range(len(points)):\n",
        "     if points[i] > max and i != best_index:\n",
        "       max = points[i]\n",
        "       index = i\n",
        "\n",
        "    best.append(samples[index])\n",
        "\n",
        "    return best\n"
      ],
      "metadata": {
        "id": "DW87JooDJnNq"
      },
      "execution_count": 9,
      "outputs": []
    },
    {
      "cell_type": "code",
      "source": [
        "# Crossover the two best lists\n",
        "def crossover(best):\n",
        "  crossover_break = random.randrange(0,429)\n",
        "\n",
        "  for i in range(crossover_break,len(samples[0])):\n",
        "   temp = best[0][i]\n",
        "   best[0][i] = best[1][i]\n",
        "   best[1][i] = temp\n",
        "\n",
        "  for i in range(len(best)):\n",
        "   samples.append(best[i])\n",
        ""
      ],
      "metadata": {
        "id": "VA9yJBI1N1GG"
      },
      "execution_count": 10,
      "outputs": []
    },
    {
      "cell_type": "code",
      "source": [
        "# Mutation for the two best lists\n",
        "def mutation():\n",
        "\n",
        "  n = len(samples)\n",
        "  last = samples[n-1]\n",
        "  qlast = samples[n-2]\n",
        "\n",
        "  false_last = []\n",
        "\n",
        "  for i in range(len(last)):\n",
        "   a = last[i][0][1] + last[i][1][1] + last[i][2][1]\n",
        "   if a == 0 :\n",
        "    false_last.append(i)\n",
        "\n",
        "  for i in range(int(len(false_last)/2)):\n",
        "   mutant = random.randrange(0,429)\n",
        "   index = random.choice(false_last)\n",
        "   last[index] = qlast[mutant]\n",
        "\n",
        "  samples[n-1] = last"
      ],
      "metadata": {
        "id": "8md0lwo_m5PS"
      },
      "execution_count": 11,
      "outputs": []
    },
    {
      "cell_type": "code",
      "source": [
        "# Show the chart\n",
        "def draw_chart():\n",
        "  x = iteration\n",
        "  y = points\n",
        "\n",
        "  plt.scatter(x, y)\n",
        "  plt.show()"
      ],
      "metadata": {
        "id": "WJKm3iAFqCR_"
      },
      "execution_count": 12,
      "outputs": []
    },
    {
      "cell_type": "code",
      "source": [
        "# Main\n",
        "\n",
        "points = []\n",
        "iteration = []\n",
        "samples = []\n",
        "\n",
        "create_initial_samples()\n",
        "\n",
        "start = 0\n",
        "iterate_points(start, 1)\n",
        "i = 0\n",
        "while (points[len(points)-1] != 429):\n",
        "    if i == 0 :\n",
        "      start +=6\n",
        "    else:\n",
        "      start +=2\n",
        "    best =  selector()\n",
        "    crossover(best)\n",
        "    if i % 5 == 0 :\n",
        "      mutation()\n",
        "    iterate_points(start, i+2)\n",
        "    if i % 10 == 0:\n",
        "      print(points[len(points)-1])\n",
        "      draw_chart()\n",
        "      input()\n",
        "      output.clear()\n",
        "\n",
        "    i+=1\n",
        "\n",
        "\n",
        "draw_chart()\n",
        ""
      ],
      "metadata": {
        "id": "EBPjJPkwHYwn"
      },
      "execution_count": null,
      "outputs": []
    }
  ]
}
