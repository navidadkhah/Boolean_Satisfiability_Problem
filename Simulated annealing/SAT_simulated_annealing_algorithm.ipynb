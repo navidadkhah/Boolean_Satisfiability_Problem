{
  "nbformat": 4,
  "nbformat_minor": 0,
  "metadata": {
    "colab": {
      "provenance": []
    },
    "kernelspec": {
      "name": "python3",
      "display_name": "Python 3"
    },
    "language_info": {
      "name": "python"
    }
  },
  "cells": [
    {
      "cell_type": "code",
      "execution_count": 1,
      "metadata": {
        "id": "8wCF0EFvtOhG",
        "colab": {
          "base_uri": "https://localhost:8080/"
        },
        "outputId": "742be506-92f0-406f-ff33-60e0d638ad5f"
      },
      "outputs": [
        {
          "output_type": "stream",
          "name": "stdout",
          "text": [
            "Looking in indexes: https://pypi.org/simple, https://us-python.pkg.dev/colab-wheels/public/simple/\n",
            "Collecting python-sat\n",
            "  Downloading python_sat-0.1.8.dev7-cp310-cp310-manylinux_2_12_x86_64.manylinux2010_x86_64.whl (2.1 MB)\n",
            "\u001b[2K     \u001b[90m━━━━━━━━━━━━━━━━━━━━━━━━━━━━━━━━━━━━━━━━\u001b[0m \u001b[32m2.1/2.1 MB\u001b[0m \u001b[31m24.6 MB/s\u001b[0m eta \u001b[36m0:00:00\u001b[0m\n",
            "\u001b[?25hRequirement already satisfied: six in /usr/local/lib/python3.10/dist-packages (from python-sat) (1.16.0)\n",
            "Installing collected packages: python-sat\n",
            "Successfully installed python-sat-0.1.8.dev7\n"
          ]
        }
      ],
      "source": [
        "# Install sat library\n",
        "!pip install python-sat"
      ]
    },
    {
      "cell_type": "code",
      "source": [
        "import numpy as np\n",
        "import random\n",
        "import math\n",
        "import matplotlib.pyplot as plt\n",
        "import pysat as py\n",
        "from pysat.formula import CNF\n",
        "from google.colab import output"
      ],
      "metadata": {
        "id": "pPBTmpRCtU_o"
      },
      "execution_count": 2,
      "outputs": []
    },
    {
      "cell_type": "code",
      "source": [
        "# Set the drive for gettin cnf file\n",
        "from google.colab import drive\n",
        "drive.mount(\"/content/drive/\")"
      ],
      "metadata": {
        "id": "TbnnTbC0tXrZ"
      },
      "execution_count": null,
      "outputs": []
    },
    {
      "cell_type": "code",
      "source": [
        "# Read the cnf file\n",
        "path = '/content/drive/MyDrive/Colab Notebooks/Input.cnf'\n",
        "df = CNF(from_file= path)\n",
        "lists = df.clauses"
      ],
      "metadata": {
        "id": "ox4TH_NptbcS"
      },
      "execution_count": null,
      "outputs": []
    },
    {
      "cell_type": "code",
      "source": [
        "# Create initial sample for testing\n",
        "def create_initial_sample():\n",
        "  for j in range(429):\n",
        "    junk_list = []\n",
        "    for k in range(3):\n",
        "      number = random.randrange(1, 101)\n",
        "      sign = random.randrange(0, 2)\n",
        "      junk_list.append( (number, sign) )\n",
        "\n",
        "    sample.append(junk_list)"
      ],
      "metadata": {
        "id": "E334oSzqtqpY"
      },
      "execution_count": 5,
      "outputs": []
    },
    {
      "cell_type": "code",
      "source": [
        "def bit_inverter(i):\n",
        "\n",
        "  second_list = []\n",
        "  line  = random.randrange(0, 429)\n",
        "  cell  = random.randrange(0, 3)\n",
        "\n",
        "  if (i == 0):\n",
        "   second_list = sample.copy()\n",
        "  else:\n",
        "   second_list = sample[0].copy()\n",
        "\n",
        "  demo_list = list(second_list[line][cell])\n",
        "  temp = demo_list[1]\n",
        "  if temp == 1:\n",
        "    demo_list[1] -= 1\n",
        "  else:\n",
        "    demo_list[1] += 1\n",
        "  second_list[line][cell] = tuple(demo_list)\n",
        "  return second_list"
      ],
      "metadata": {
        "id": "f0rG06jt_vkq"
      },
      "execution_count": 6,
      "outputs": []
    },
    {
      "cell_type": "code",
      "source": [
        "# Count the number of true parentheses\n",
        "def true_cont(sat_list,is_sample):\n",
        "   number_of_trues = 0\n",
        "   if is_sample == 1:\n",
        "    for i in range(len(sat_list)):\n",
        "      is_true = sat_list[i][0][1] + sat_list[i][1][1] + sat_list[i][2][1]\n",
        "      if is_true >= 1 :\n",
        "        number_of_trues += 1\n",
        "   else:\n",
        "    for i in range(len(sat_list[0])):\n",
        "      is_true = sat_list[0][i][0][1] + sat_list[0][i][1][1] + sat_list[0][i][2][1]\n",
        "      if is_true >= 1 :\n",
        "        number_of_trues += 1\n",
        "   return number_of_trues"
      ],
      "metadata": {
        "id": "FuXPpp5JI3kn"
      },
      "execution_count": 7,
      "outputs": []
    },
    {
      "cell_type": "code",
      "source": [
        "def simulated_annealing_check():\n",
        "  rand = random.uniform(0, 1)\n",
        "  delta_f = abs(second_num_of_trues - num_of_trues)\n",
        "  delta_f *= -1\n",
        "\n",
        "  global T\n",
        "  result = delta_f / T\n",
        "  T *= 0.09\n",
        "\n",
        "  x = math.exp(result)\n",
        "  return rand < x"
      ],
      "metadata": {
        "id": "aHZPn0ChKSed"
      },
      "execution_count": 8,
      "outputs": []
    },
    {
      "cell_type": "code",
      "source": [
        "# Show the chart\n",
        "def draw_chart():\n",
        "  x = iteration\n",
        "  y = points\n",
        "\n",
        "  plt.scatter(x, y)\n",
        "  plt.show()"
      ],
      "metadata": {
        "id": "4QupjNl0rtcL"
      },
      "execution_count": 20,
      "outputs": []
    },
    {
      "cell_type": "code",
      "source": [
        "# Show the T exponential chart\n",
        "def draw_t():\n",
        "  x = iter_t\n",
        "  y = t\n",
        "\n",
        "  plt.plot(x, y)\n",
        "  plt.show()"
      ],
      "metadata": {
        "id": "3XwhSNThGfph"
      },
      "execution_count": 25,
      "outputs": []
    },
    {
      "cell_type": "code",
      "source": [
        "# MAIN\n",
        "\n",
        "# Initalazing variables\n",
        "sample = []\n",
        "second_list = []\n",
        "num_of_trues = 0\n",
        "second_num_of_trues = 0\n",
        "T = 100\n",
        "points = []\n",
        "iteration = []\n",
        "iter_t = []\n",
        "t = []\n",
        "\n",
        "create_initial_sample()\n",
        "num_of_trues = true_cont(sample, 1)\n",
        "i = 0\n",
        "while (num_of_trues != 429):\n",
        "  if (i == 0):\n",
        "    second_list.append(bit_inverter(0))\n",
        "  else:\n",
        "    second_list.append(bit_inverter(1))\n",
        "\n",
        "  second_num_of_trues = true_cont(second_list, 0)\n",
        "\n",
        "  if(second_num_of_trues > num_of_trues):\n",
        "    sample = []\n",
        "    sample.append(second_list[0])\n",
        "    second_list = []\n",
        "    num_of_trues = second_num_of_trues\n",
        "    second_num_of_trues = 0\n",
        "    points.append(num_of_trues)\n",
        "  else:\n",
        "    check = simulated_annealing_check()\n",
        "    t.append(T)\n",
        "    if check is True:\n",
        "      sample = []\n",
        "      sample.append(second_list[0])\n",
        "      second_list = []\n",
        "      num_of_trues = second_num_of_trues\n",
        "      second_num_of_trues = 0\n",
        "      points.append(num_of_trues)\n",
        "    else:\n",
        "      second_list = []\n",
        "      second_num_of_trues = 0\n",
        "      points.append(num_of_trues)\n",
        "    iter_t.append(i)\n",
        "  i +=1\n",
        "  iteration.append(i)\n",
        "\n",
        "  if i % 30 == 0 :\n",
        "      draw_chart()\n",
        "      draw_t()\n",
        "      input()\n",
        "      output.clear()\n"
      ],
      "metadata": {
        "id": "DzGe5LhI7HHm"
      },
      "execution_count": null,
      "outputs": []
    }
  ]
}